{
 "cells": [
  {
   "cell_type": "markdown",
   "metadata": {},
   "source": [
    "# Maximum Subarray Sum using Divide and Conquer algorithm"
   ]
  },
  {
   "cell_type": "code",
   "execution_count": 3,
   "metadata": {},
   "outputs": [
    {
     "name": "stdout",
     "output_type": "stream",
     "text": [
      "Maximum contiguous sum is  18\n"
     ]
    }
   ],
   "source": [
    "# Origined by Nikita Tiwari, modified by Tim\n",
    "# A Divide and Conquer based program for maximum subarray sum problem\n",
    "\n",
    "# Find the maximum possible sum in\n",
    "# arr[] auch that arr[m] is part of it\n",
    "\n",
    "# The result is not right, NEED TO FIX\n",
    "\n",
    "\n",
    "def maxCrossingSum(array: list, low: int, middle: int, high: int) -> int:\n",
    "\n",
    "    # Include elements on left of mid. float('-inf') is to present negative infinity\n",
    "    sum = 0\n",
    "    left_sum = float('-inf') \n",
    "    right_sum = float('-inf') \n",
    "\n",
    "    for i in range(middle, low - 1, -1):\n",
    "        sum = sum + array[i]\n",
    "\n",
    "        if sum > left_sum:\n",
    "            left_sum = sum\n",
    "\n",
    "    # Include elements on right of mid\n",
    "    sum = 0\n",
    "    # right_sum = -1000\n",
    "    for i in range(middle, high + 1):\n",
    "        sum = sum + array[i]\n",
    "\n",
    "        if sum > right_sum:\n",
    "            right_sum = sum\n",
    "\n",
    "    # Return sum of elements on left and right of mid\n",
    "    # returning only left_sum + right_sum will fail for [-2, 1]\n",
    "    return max(left_sum + right_sum - array[middle], left_sum, right_sum)\n",
    "\n",
    "\n",
    "# Returns sum of maximum sum subarray in aa[l..h]\n",
    "def maxSubArraySum(array, low, high):\n",
    "    # Invalid Range: low is greater than high\n",
    "    if low > high:\n",
    "        return -10000\n",
    "    # Base Case: Only one element\n",
    "    if low == high:\n",
    "        return array[low]\n",
    "\n",
    "    # Find middle point\n",
    "    m = (low + high) // 2\n",
    "\n",
    "    # Return maximum of following three possible cases\n",
    "    # a) Maximum subarray sum in left half\n",
    "    # b) Maximum subarray sum in right half\n",
    "    # c) Maximum subarray sum such that the\n",
    "    # \t subarray crosses the midpoint\n",
    "    return max(\n",
    "        maxSubArraySum(array, low, m - 1),\n",
    "        maxSubArraySum(array, m + 1, high),\n",
    "        maxCrossingSum(array, low, m, high),\n",
    "    )\n",
    "\n",
    "\n",
    "# Driver Code\n",
    "arr = [-1, 3, 4, -5, 7, 9, -2]\n",
    "n = len(arr)\n",
    "\n",
    "max_sum = maxSubArraySum(arr, 0, n - 1)\n",
    "print(\"Maximum contiguous sum is \", max_sum)\n",
    "\n",
    "# This code is contributed by Nikita Tiwari."
   ]
  }
 ],
 "metadata": {
  "kernelspec": {
   "display_name": "Python 3",
   "language": "python",
   "name": "python3"
  },
  "language_info": {
   "codemirror_mode": {
    "name": "ipython",
    "version": 3
   },
   "file_extension": ".py",
   "mimetype": "text/x-python",
   "name": "python",
   "nbconvert_exporter": "python",
   "pygments_lexer": "ipython3",
   "version": "3.12.4"
  }
 },
 "nbformat": 4,
 "nbformat_minor": 2
}
